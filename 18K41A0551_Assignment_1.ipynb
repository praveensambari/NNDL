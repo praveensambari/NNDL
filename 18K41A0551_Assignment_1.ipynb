{
  "nbformat": 4,
  "nbformat_minor": 0,
  "metadata": {
    "colab": {
      "name": "18K41A0551_Assignment_1",
      "provenance": [],
      "authorship_tag": "ABX9TyOuneovON6ouhNkfHbL2k5O",
      "include_colab_link": true
    },
    "kernelspec": {
      "name": "python3",
      "display_name": "Python 3"
    }
  },
  "cells": [
    {
      "cell_type": "markdown",
      "metadata": {
        "id": "view-in-github",
        "colab_type": "text"
      },
      "source": [
        "<a href=\"https://colab.research.google.com/github/praveensambari/NNDL/blob/main/18K41A0551_Assignment_1.ipynb\" target=\"_parent\"><img src=\"https://colab.research.google.com/assets/colab-badge.svg\" alt=\"Open In Colab\"/></a>"
      ]
    },
    {
      "cell_type": "code",
      "metadata": {
        "colab": {
          "base_uri": "https://localhost:8080/"
        },
        "id": "lAWhQPG5kmf6",
        "outputId": "4ce3d802-7569-4dba-fa26-26f91354b3f2"
      },
      "source": [
        "#step 1\r\n",
        "x=1\r\n",
        "epoch=2 \r\n",
        "n=0.1 \r\n",
        "itr=0\r\n",
        "eqn_d=[]\r\n",
        "minval=[]\r\n",
        "minx=[]\r\n",
        "print(\"STEP 1 : x=1,epoch=2,n=0.1,itr=0\\n\")\r\n",
        "\r\n",
        "#step 2\r\n",
        "eqn = [(1, 4), (3, 2)]  #f(x) = 1*(x)**4 + 3*(x)**2 + 10\r\n",
        "for i in eqn:\r\n",
        "  coeff, power = i[0], i[1]\r\n",
        "  d_coeff, d_power = coeff * power, power - 1\r\n",
        "  eqn_d.append((d_coeff, d_power))\r\n",
        "#print(eqn_d) # 4*(x)**3+6(x)\r\n",
        "\r\n",
        "def eqn_d_at_x(val):\r\n",
        "  return sum([c*(val**p) for c, p in eqn_d])\r\n",
        "\r\n",
        "#step from 6 to 2 check itr < epoch\r\n",
        "while (itr < epoch):\r\n",
        "  eqn_val = eqn_d_at_x(x)\r\n",
        "  print(f\"STEP 2 : f(x)={eqn} i,e 1*(x)**4 + 3*(x)**2 + 10\")\r\n",
        "  print(f\"\\t First Order derivative of f(x) at {x}\")\r\n",
        "  print(f\"\\t = df( 1*(x)**4 + 3*(x)**2 + 10 )/dx= {eqn_d} i,e 4*(x)**3+6(x)\")\r\n",
        "  print(f\"\\t = {eqn_val}\\n\")\r\n",
        "  \r\n",
        "  #step 3\r\n",
        "  delta_x = -n * eqn_val\r\n",
        "  print(\"STEP 3 : Calaculate change in x\\n\\t delta x = -n * df/dx \")\r\n",
        "  print(f\"\\t delta x = {n} * {eqn_val} \")\r\n",
        "  print(f\"\\t delta x = {delta_x}\\n\")\r\n",
        "\r\n",
        "  #step 4\r\n",
        "  print(\"STEP 4 : Update variable x\\n\\t x = x + delta x\")\r\n",
        "  print(f\"\\t x = {x}+{delta_x}\")\r\n",
        "  x = x + delta_x\r\n",
        "  print(f\"\\t x = {x}\\n\")\r\n",
        "\r\n",
        "  minval.append(eqn_val)\r\n",
        "  minx.append(x)\r\n",
        "  #step 5\r\n",
        "  print(\"STEP 5 : Increment iterations\\n\\t itr = itr + 1\")\r\n",
        "  itr = itr + 1\r\n",
        "  print(f\"\\t itr = {itr}\\n\")\r\n",
        "\r\n",
        "  #step 6 \r\n",
        "  print(f\"STEP 6 : {itr} > {epoch} \\n\")\r\n",
        "  print(f\"Iteration {itr} : \\tValue of f(x) : {eqn_val} at x={x}\\n\")\r\n",
        "\r\n",
        "m=minx.index(min(minx))\r\n",
        "#x1=minx[x1+1]\r\n",
        "print(f\"\\nSTEP 7 : The minimum value of f(x)={minval[m]} at {minx[m]}\")\r\n",
        "\r\n"
      ],
      "execution_count": null,
      "outputs": [
        {
          "output_type": "stream",
          "text": [
            "STEP 1 : x=1,epoch=2,n=0.1,itr=0\n",
            "\n",
            "STEP 2 : f(x)=[(1, 4), (3, 2)] i,e 1*(x)**4 + 3*(x)**2 + 10\n",
            "\t First Order derivative of f(x) at 1\n",
            "\t = df( 1*(x)**4 + 3*(x)**2 + 10 )/dx= [(4, 3), (6, 1)] i,e 4*(x)**3+6(x)\n",
            "\t = 10\n",
            "\n",
            "STEP 3 : Calaculate change in x\n",
            "\t delta x = -n * df/dx \n",
            "\t delta x = 0.1 * 10 \n",
            "\t delta x = -1.0\n",
            "\n",
            "STEP 4 : Update variable x\n",
            "\t x = x + delta x\n",
            "\t x = 1+-1.0\n",
            "\t x = 0.0\n",
            "\n",
            "STEP 5 : Increment iterations\n",
            "\t itr = itr + 1\n",
            "\t itr = 1\n",
            "\n",
            "STEP 6 : 1 > 2 \n",
            "\n",
            "Iteration 1 : \tValue of f(x) : 10 at x=0.0\n",
            "\n",
            "STEP 2 : f(x)=[(1, 4), (3, 2)] i,e 1*(x)**4 + 3*(x)**2 + 10\n",
            "\t First Order derivative of f(x) at 0.0\n",
            "\t = df( 1*(x)**4 + 3*(x)**2 + 10 )/dx= [(4, 3), (6, 1)] i,e 4*(x)**3+6(x)\n",
            "\t = 0.0\n",
            "\n",
            "STEP 3 : Calaculate change in x\n",
            "\t delta x = -n * df/dx \n",
            "\t delta x = 0.1 * 0.0 \n",
            "\t delta x = -0.0\n",
            "\n",
            "STEP 4 : Update variable x\n",
            "\t x = x + delta x\n",
            "\t x = 0.0+-0.0\n",
            "\t x = 0.0\n",
            "\n",
            "STEP 5 : Increment iterations\n",
            "\t itr = itr + 1\n",
            "\t itr = 2\n",
            "\n",
            "STEP 6 : 2 > 2 \n",
            "\n",
            "Iteration 2 : \tValue of f(x) : 0.0 at x=0.0\n",
            "\n",
            "\n",
            "STEP 7 : The minimum value of f(x)=10 at 0.0\n"
          ],
          "name": "stdout"
        }
      ]
    }
  ]
}