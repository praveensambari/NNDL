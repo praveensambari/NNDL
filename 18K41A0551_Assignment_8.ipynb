{
  "nbformat": 4,
  "nbformat_minor": 0,
  "metadata": {
    "colab": {
      "name": "18K41A0551_Assignment_8.ipynb",
      "provenance": [],
      "authorship_tag": "ABX9TyPV0XIlxEzUwehNKzRVrYnh",
      "include_colab_link": true
    },
    "kernelspec": {
      "name": "python3",
      "display_name": "Python 3"
    },
    "language_info": {
      "name": "python"
    }
  },
  "cells": [
    {
      "cell_type": "markdown",
      "metadata": {
        "id": "view-in-github",
        "colab_type": "text"
      },
      "source": [
        "<a href=\"https://colab.research.google.com/github/praveensambari/NNDL/blob/main/18K41A0551_Assignment_8.ipynb\" target=\"_parent\"><img src=\"https://colab.research.google.com/assets/colab-badge.svg\" alt=\"Open In Colab\"/></a>"
      ]
    },
    {
      "cell_type": "code",
      "metadata": {
        "id": "CU9R2AX_jqJ1"
      },
      "source": [
        "import pandas as pd"
      ],
      "execution_count": 9,
      "outputs": []
    },
    {
      "cell_type": "code",
      "metadata": {
        "colab": {
          "base_uri": "https://localhost:8080/",
          "height": 196
        },
        "id": "hYaO8QFUj5JK",
        "outputId": "d613a941-42da-4a9e-ca92-63f2aa0e3b52"
      },
      "source": [
        "df=pd.read_excel(\"pressure_wts.xlsx\")\n",
        "df.head()"
      ],
      "execution_count": 13,
      "outputs": [
        {
          "output_type": "execute_result",
          "data": {
            "text/html": [
              "<div>\n",
              "<style scoped>\n",
              "    .dataframe tbody tr th:only-of-type {\n",
              "        vertical-align: middle;\n",
              "    }\n",
              "\n",
              "    .dataframe tbody tr th {\n",
              "        vertical-align: top;\n",
              "    }\n",
              "\n",
              "    .dataframe thead th {\n",
              "        text-align: right;\n",
              "    }\n",
              "</style>\n",
              "<table border=\"1\" class=\"dataframe\">\n",
              "  <thead>\n",
              "    <tr style=\"text-align: right;\">\n",
              "      <th></th>\n",
              "      <th>pressure</th>\n",
              "      <th>weight</th>\n",
              "    </tr>\n",
              "  </thead>\n",
              "  <tbody>\n",
              "    <tr>\n",
              "      <th>0</th>\n",
              "      <td>75.1</td>\n",
              "      <td>577.8</td>\n",
              "    </tr>\n",
              "    <tr>\n",
              "      <th>1</th>\n",
              "      <td>74.3</td>\n",
              "      <td>577.0</td>\n",
              "    </tr>\n",
              "    <tr>\n",
              "      <th>2</th>\n",
              "      <td>88.7</td>\n",
              "      <td>570.9</td>\n",
              "    </tr>\n",
              "    <tr>\n",
              "      <th>3</th>\n",
              "      <td>114.6</td>\n",
              "      <td>578.6</td>\n",
              "    </tr>\n",
              "    <tr>\n",
              "      <th>4</th>\n",
              "      <td>98.5</td>\n",
              "      <td>572.4</td>\n",
              "    </tr>\n",
              "  </tbody>\n",
              "</table>\n",
              "</div>"
            ],
            "text/plain": [
              "   pressure  weight\n",
              "0      75.1   577.8\n",
              "1      74.3   577.0\n",
              "2      88.7   570.9\n",
              "3     114.6   578.6\n",
              "4      98.5   572.4"
            ]
          },
          "metadata": {
            "tags": []
          },
          "execution_count": 13
        }
      ]
    },
    {
      "cell_type": "code",
      "metadata": {
        "colab": {
          "base_uri": "https://localhost:8080/"
        },
        "id": "GMVMX-zikBob",
        "outputId": "7091ce7e-e160-4893-f5b9-c68afba280eb"
      },
      "source": [
        "df.info()"
      ],
      "execution_count": 14,
      "outputs": [
        {
          "output_type": "stream",
          "text": [
            "<class 'pandas.core.frame.DataFrame'>\n",
            "RangeIndex: 30 entries, 0 to 29\n",
            "Data columns (total 2 columns):\n",
            " #   Column    Non-Null Count  Dtype  \n",
            "---  ------    --------------  -----  \n",
            " 0   pressure  30 non-null     float64\n",
            " 1   weight    30 non-null     float64\n",
            "dtypes: float64(2)\n",
            "memory usage: 608.0 bytes\n"
          ],
          "name": "stdout"
        }
      ]
    },
    {
      "cell_type": "code",
      "metadata": {
        "colab": {
          "base_uri": "https://localhost:8080/",
          "height": 297
        },
        "id": "bjqn4xrnkKp0",
        "outputId": "1b1ca568-37b9-47c5-a73b-99917bdf3ade"
      },
      "source": [
        "import matplotlib.pyplot as plt\n",
        "import seaborn as sns\n",
        "def get_heatmap(df):\n",
        "    plt.figure(figsize=(6,4))\n",
        "    sns.heatmap(df.isnull(), yticklabels=False, cbar=False, cmap='viridis')\n",
        "    plt.tight_layout()\n",
        "    return plt.show()\n",
        "\n",
        "get_heatmap(df)"
      ],
      "execution_count": 15,
      "outputs": [
        {
          "output_type": "display_data",
          "data": {
            "image/png": "[encoded data removed]",
            "text/plain": [
              "<Figure size 432x288 with 1 Axes>"
            ]
          },
          "metadata": {
            "tags": [],
            "needs_background": "light"
          }
        }
      ]
    },
    {
      "cell_type": "code",
      "metadata": {
        "colab": {
          "base_uri": "https://localhost:8080/"
        },
        "id": "fxUYAtnykND_",
        "outputId": "8edf933c-b44f-4142-9631-5768c83cb907"
      },
      "source": [
        "from scipy import stats\n",
        "z = np.abs(stats.zscore(df))\n",
        "print(z)"
      ],
      "execution_count": 16,
      "outputs": [
        {
          "output_type": "stream",
          "text": [
            "[[0.90855142 1.61656054]\n",
            " [0.95645395 1.59597943]\n",
            " [0.09420832 1.43904846]\n",
            " [1.45663625 1.63714165]\n",
            " [0.49259774 1.47763804]\n",
            " [1.30095302 2.6694559 ]\n",
            " [1.46861189 0.430574  ]\n",
            " [1.68097979 1.25896373]\n",
            " [1.00156217 2.78522465]\n",
            " [0.01357238 0.20229517]\n",
            " [0.98639304 0.47756754]\n",
            " [1.52849006 0.25117531]\n",
            " [0.54648809 0.22030365]\n",
            " [0.16326781 0.12254337]\n",
            " [0.98040522 0.28461962]\n",
            " [1.4714062  0.22544892]\n",
            " [1.44146712 0.22287629]\n",
            " [0.74089254 0.12254337]\n",
            " [1.16922104 0.16370559]\n",
            " [0.9057571  0.10453489]\n",
            " [0.10019614 0.24603004]\n",
            " [0.04031797 0.05565476]\n",
            " [0.98639304 0.31291865]\n",
            " [0.66025661 0.56503726]\n",
            " [1.77997837 0.10710753]\n",
            " [0.86064888 0.05565476]\n",
            " [0.84268543 0.04021892]\n",
            " [0.50137987 0.12768865]\n",
            " [0.35767226 0.27432906]\n",
            " [0.46265865 0.18102803]]\n"
          ],
          "name": "stdout"
        }
      ]
    },
    {
      "cell_type": "code",
      "metadata": {
        "colab": {
          "base_uri": "https://localhost:8080/",
          "height": 196
        },
        "id": "0ftK51x9kPSL",
        "outputId": "48a5e8a3-f80f-47db-ec22-3c422c84e652"
      },
      "source": [
        "f_data = df[(z < 3).all(axis=1)]\n",
        "f_data.head()"
      ],
      "execution_count": 17,
      "outputs": [
        {
          "output_type": "execute_result",
          "data": {
            "text/html": [
              "<div>\n",
              "<style scoped>\n",
              "    .dataframe tbody tr th:only-of-type {\n",
              "        vertical-align: middle;\n",
              "    }\n",
              "\n",
              "    .dataframe tbody tr th {\n",
              "        vertical-align: top;\n",
              "    }\n",
              "\n",
              "    .dataframe thead th {\n",
              "        text-align: right;\n",
              "    }\n",
              "</style>\n",
              "<table border=\"1\" class=\"dataframe\">\n",
              "  <thead>\n",
              "    <tr style=\"text-align: right;\">\n",
              "      <th></th>\n",
              "      <th>pressure</th>\n",
              "      <th>weight</th>\n",
              "    </tr>\n",
              "  </thead>\n",
              "  <tbody>\n",
              "    <tr>\n",
              "      <th>0</th>\n",
              "      <td>75.1</td>\n",
              "      <td>577.8</td>\n",
              "    </tr>\n",
              "    <tr>\n",
              "      <th>1</th>\n",
              "      <td>74.3</td>\n",
              "      <td>577.0</td>\n",
              "    </tr>\n",
              "    <tr>\n",
              "      <th>2</th>\n",
              "      <td>88.7</td>\n",
              "      <td>570.9</td>\n",
              "    </tr>\n",
              "    <tr>\n",
              "      <th>3</th>\n",
              "      <td>114.6</td>\n",
              "      <td>578.6</td>\n",
              "    </tr>\n",
              "    <tr>\n",
              "      <th>4</th>\n",
              "      <td>98.5</td>\n",
              "      <td>572.4</td>\n",
              "    </tr>\n",
              "  </tbody>\n",
              "</table>\n",
              "</div>"
            ],
            "text/plain": [
              "   pressure  weight\n",
              "0      75.1   577.8\n",
              "1      74.3   577.0\n",
              "2      88.7   570.9\n",
              "3     114.6   578.6\n",
              "4      98.5   572.4"
            ]
          },
          "metadata": {
            "tags": []
          },
          "execution_count": 17
        }
      ]
    },
    {
      "cell_type": "code",
      "metadata": {
        "colab": {
          "base_uri": "https://localhost:8080/"
        },
        "id": "FjT25lVOlLBk",
        "outputId": "641cbcc5-b8d9-4108-f3ca-56abf5106632"
      },
      "source": [
        "print(len(df))\n",
        "print(len(f_data))\n",
        "if(len(df) == len(f_data)):\n",
        "    print('Hence there are - No outliners')"
      ],
      "execution_count": 18,
      "outputs": [
        {
          "output_type": "stream",
          "text": [
            "30\n",
            "30\n",
            "Hence there are - No outliners\n"
          ],
          "name": "stdout"
        }
      ]
    },
    {
      "cell_type": "code",
      "metadata": {
        "colab": {
          "base_uri": "https://localhost:8080/",
          "height": 196
        },
        "id": "P6vcAEj-lQbt",
        "outputId": "aa15ac60-8155-4af8-afd3-f25423726e99"
      },
      "source": [
        "def min_max_scaling(df):\n",
        "  df_norm = df.copy()\n",
        "  ct=0\n",
        "  newmin=0\n",
        "  newmax=1\n",
        "  for column in df_norm.columns:\n",
        "    df_norm[column]=(df_norm[column]-df_norm[column].min())/(df_norm[column].max()-df_norm[column].min())*(newmax-newmin)+newmin\n",
        "  return df_norm\n",
        "\n",
        "df_norm = min_max_scaling(df)\n",
        "df_norm.head()"
      ],
      "execution_count": 19,
      "outputs": [
        {
          "output_type": "execute_result",
          "data": {
            "text/html": [
              "<div>\n",
              "<style scoped>\n",
              "    .dataframe tbody tr th:only-of-type {\n",
              "        vertical-align: middle;\n",
              "    }\n",
              "\n",
              "    .dataframe tbody tr th {\n",
              "        vertical-align: top;\n",
              "    }\n",
              "\n",
              "    .dataframe thead th {\n",
              "        text-align: right;\n",
              "    }\n",
              "</style>\n",
              "<table border=\"1\" class=\"dataframe\">\n",
              "  <thead>\n",
              "    <tr style=\"text-align: right;\">\n",
              "      <th></th>\n",
              "      <th>pressure</th>\n",
              "      <th>weight</th>\n",
              "    </tr>\n",
              "  </thead>\n",
              "  <tbody>\n",
              "    <tr>\n",
              "      <th>0</th>\n",
              "      <td>0.223183</td>\n",
              "      <td>0.995346</td>\n",
              "    </tr>\n",
              "    <tr>\n",
              "      <th>1</th>\n",
              "      <td>0.209343</td>\n",
              "      <td>0.990692</td>\n",
              "    </tr>\n",
              "    <tr>\n",
              "      <th>2</th>\n",
              "      <td>0.458478</td>\n",
              "      <td>0.955207</td>\n",
              "    </tr>\n",
              "    <tr>\n",
              "      <th>3</th>\n",
              "      <td>0.906574</td>\n",
              "      <td>1.000000</td>\n",
              "    </tr>\n",
              "    <tr>\n",
              "      <th>4</th>\n",
              "      <td>0.628028</td>\n",
              "      <td>0.963933</td>\n",
              "    </tr>\n",
              "  </tbody>\n",
              "</table>\n",
              "</div>"
            ],
            "text/plain": [
              "   pressure    weight\n",
              "0  0.223183  0.995346\n",
              "1  0.209343  0.990692\n",
              "2  0.458478  0.955207\n",
              "3  0.906574  1.000000\n",
              "4  0.628028  0.963933"
            ]
          },
          "metadata": {
            "tags": []
          },
          "execution_count": 19
        }
      ]
    },
    {
      "cell_type": "code",
      "metadata": {
        "id": "oon2dGZFlZSz"
      },
      "source": [
        "from sklearn.model_selection import train_test_split\n",
        "x_train, x_test, y_train, y_test = train_test_split(df_norm.pressure, df_norm.weight, test_size = 0.10, random_state = 42)"
      ],
      "execution_count": 20,
      "outputs": []
    },
    {
      "cell_type": "code",
      "metadata": {
        "colab": {
          "base_uri": "https://localhost:8080/"
        },
        "id": "ZIKQKpFQlbrn",
        "outputId": "89719f38-a9c0-4b32-9a6f-85562653c054"
      },
      "source": [
        "x_train.head()"
      ],
      "execution_count": 21,
      "outputs": [
        {
          "output_type": "execute_result",
          "data": {
            "text/plain": [
              "17    0.271626\n",
              "8     0.775087\n",
              "9     0.489619\n",
              "28    0.382353\n",
              "24    1.000000\n",
              "Name: pressure, dtype: float64"
            ]
          },
          "metadata": {
            "tags": []
          },
          "execution_count": 21
        }
      ]
    },
    {
      "cell_type": "code",
      "metadata": {
        "colab": {
          "base_uri": "https://localhost:8080/"
        },
        "id": "bMxn38c1ldel",
        "outputId": "fcaa27ef-d711-4dfa-cf4a-94b26da0ffa6"
      },
      "source": [
        "y_train.head()"
      ],
      "execution_count": 22,
      "outputs": [
        {
          "output_type": "execute_result",
          "data": {
            "text/plain": [
              "17    0.602094\n",
              "8     0.000000\n",
              "9     0.584061\n",
              "28    0.567772\n",
              "24    0.605585\n",
              "Name: weight, dtype: float64"
            ]
          },
          "metadata": {
            "tags": []
          },
          "execution_count": 22
        }
      ]
    },
    {
      "cell_type": "code",
      "metadata": {
        "colab": {
          "base_uri": "https://localhost:8080/"
        },
        "id": "9M3LSm53lf-P",
        "outputId": "41b28e63-b027-4692-b237-c57ba12e7e2f"
      },
      "source": [
        "x_test"
      ],
      "execution_count": 23,
      "outputs": [
        {
          "output_type": "execute_result",
          "data": {
            "text/plain": [
              "27    0.340830\n",
              "15    0.060554\n",
              "23    0.676471\n",
              "Name: pressure, dtype: float64"
            ]
          },
          "metadata": {
            "tags": []
          },
          "execution_count": 23
        }
      ]
    },
    {
      "cell_type": "code",
      "metadata": {
        "colab": {
          "base_uri": "https://localhost:8080/"
        },
        "id": "21y7HZNBliSp",
        "outputId": "9a1d4c57-7a6a-4b58-bd70-159c0c28fb7d"
      },
      "source": [
        "y_test"
      ],
      "execution_count": 24,
      "outputs": [
        {
          "output_type": "execute_result",
          "data": {
            "text/plain": [
              "27    0.600931\n",
              "15    0.578825\n",
              "23    0.502036\n",
              "Name: weight, dtype: float64"
            ]
          },
          "metadata": {
            "tags": []
          },
          "execution_count": 24
        }
      ]
    },
    {
      "cell_type": "code",
      "metadata": {
        "colab": {
          "base_uri": "https://localhost:8080/"
        },
        "id": "fzKcicO7ljiS",
        "outputId": "15f151fa-980a-48a9-ee98-d22daf07181c"
      },
      "source": [
        "for i,j in zip(x_train,y_train):\n",
        "   print(i)\n",
        "   print(j)"
      ],
      "execution_count": 25,
      "outputs": [
        {
          "output_type": "stream",
          "text": [
            "0.2716262975778547\n",
            "0.6020942408376962\n",
            "0.7750865051903114\n",
            "0.0\n",
            "0.4896193771626297\n",
            "0.5840605002908669\n",
            "0.3823529411764705\n",
            "0.5677719604421175\n",
            "1.0\n",
            "0.6055846422338569\n",
            "0.6435986159169551\n",
            "0.5799883653286793\n",
            "0.22318339100346007\n",
            "0.9953461314717855\n",
            "0.6280276816608996\n",
            "0.9639325189063407\n",
            "0.06920415224913495\n",
            "0.5794066317626527\n",
            "0.8615916955017301\n",
            "0.026178010471204185\n",
            "0.532871972318339\n",
            "0.6020942408376962\n",
            "0.9273356401384083\n",
            "0.5730075625363582\n",
            "0.20069204152249126\n",
            "0.5590459569517161\n",
            "0.20934256055363312\n",
            "0.9906922629435717\n",
            "0.45847750865051906\n",
            "0.9552065154159393\n",
            "0.23702422145328725\n",
            "0.6172193135543917\n",
            "0.9065743944636677\n",
            "1.0\n",
            "0.4740484429065743\n",
            "0.6172193135543917\n",
            "0.24221453287197234\n",
            "0.6207097149505525\n",
            "0.8235294117647058\n",
            "0.5927865037812683\n",
            "0.6193771626297577\n",
            "0.6707388016288539\n",
            "0.45674740484429055\n",
            "0.5741710296684117\n",
            "0.0\n",
            "0.914485165794066\n",
            "0.20069204152249126\n",
            "0.5218150087260033\n",
            "0.20242214532871977\n",
            "0.5654450261780103\n",
            "0.7474048442906576\n",
            "0.6061663757998834\n",
            "0.9100346020761245\n",
            "0.7271669575334498\n"
          ],
          "name": "stdout"
        }
      ]
    },
    {
      "cell_type": "code",
      "metadata": {
        "colab": {
          "base_uri": "https://localhost:8080/"
        },
        "id": "DKME6YxwllV2",
        "outputId": "a40de8c1-752c-4e8b-febb-043ec4dff2ee"
      },
      "source": [
        "import sympy as sym\n",
        "from sympy import *\n",
        "import random\n",
        "\n",
        "#step 1 Initialization\n",
        "mi=1 #model parameters\n",
        "ci=-1\n",
        "lr = 0.1  #learning rate\n",
        "epochs = 1500 #maximum iterations\n",
        "iter = 0\n",
        "nsi = len(x_train)\n",
        "\n",
        "while iter<epochs: #step 7 check for convergence criteria\n",
        "  #step 2: start the iter and update while the loop \n",
        "  iter = iter+1\n",
        "  #print(\"ITERATION {}\".format(iter))\n",
        "  \n",
        "  #step 3: Error function for Gradient descent\n",
        "  #declare the variables that you will be using in the error function\n",
        "  x=sym.Symbol('x')\n",
        "  y=sym.Symbol('y')\n",
        "  m=sym.Symbol('m')\n",
        "  c=sym.Symbol('c')\n",
        "  ns = sym.Symbol('ns')\n",
        "  E=(0.5)/ns*(y-m*x-c)**2  #ERROR FUNCTION\n",
        " \n",
        "\n",
        "  derivE_m=sym.diff(E,m) #differentiation of E wrto m\n",
        "  derivE_c=sym.diff(E,c)  #differentiate E wrto c\n",
        "  #print(derivE_m)\n",
        "  #print(derivE_c)\n",
        "  #print('after subs m and c')\n",
        "  #print('in derivE_m')\n",
        "  derivE_m = derivE_m.subs(m, mi) \n",
        "  derivE_m = derivE_m.subs(c, ci)\n",
        "  #print(derivE_m)\n",
        "  #print('in derivE_c')\n",
        "  derivE_c = derivE_c.subs(m, mi) \n",
        "  derivE_c = derivE_c.subs(c, ci)\n",
        "  #print(derivE_c)\n",
        "  #print('after substitution ns value')\n",
        "  derivE_m = derivE_m.subs(ns,nsi)\n",
        "  derivE_c = derivE_c.subs(ns,nsi)\n",
        "  #substitution of the samples all as a single batch\n",
        "  derivE_m_final=0\n",
        "  derivE_c_final=0\n",
        "  for i,j in zip(x_train,y_train):\n",
        "    xi=i\n",
        "    yi=j\n",
        "    #print('x{} '.format(batch)+\"{}\".format(x_train['x'][batch]))\n",
        "    #print('y{} '.format(batch)+\"{}\".format(y_train['y'][batch]))\n",
        "    l1= derivE_m.subs(x,xi)\n",
        "    l2= l1.subs(y,yi)\n",
        "    #print(l2)  \n",
        "    derivE_m_final+=l2\n",
        "    l1 = derivE_c.subs(x,xi)\n",
        "    l2=l1.subs(y,yi)\n",
        "    derivE_c_final+=l2\n",
        "  #print('Final E_m')\n",
        "  #print(derivE_m_final)\n",
        "  #print('Final E_c')\n",
        "  #print(derivE_c_final)\n",
        "  #step 4 - find change in model parms\n",
        "  delta_m = -(lr)*derivE_m_final\n",
        "  delta_c = -(lr)*derivE_c_final\n",
        "\n",
        "  #step 5 - update model params\n",
        "  mi = mi+delta_m\n",
        "  ci = ci+delta_c\n",
        "  #print('m = {}'.format(mi)+' c = {}'.format(ci))\n",
        "  #print('---------------------------------------------------------')\n",
        "\n",
        "#step 8\n",
        "print('Final global minima m and c values:')\n",
        "print('m = {}'.format(mi))\n",
        "print('c = {}'.format(ci))"
      ],
      "execution_count": 26,
      "outputs": [
        {
          "output_type": "stream",
          "text": [
            "Final global minima m and c values:\n",
            "m = -0.203679955314259\n",
            "c = 0.739278761032763\n"
          ],
          "name": "stdout"
        }
      ]
    },
    {
      "cell_type": "code",
      "metadata": {
        "id": "CpQ_H_2ul2f9"
      },
      "source": [
        "y_train_pred = []\n",
        "for i in x_train:\n",
        "  ycalc = mi*i+ci\n",
        "  y_train_pred.append(ycalc)"
      ],
      "execution_count": 27,
      "outputs": []
    },
    {
      "cell_type": "code",
      "metadata": {
        "colab": {
          "base_uri": "https://localhost:8080/"
        },
        "id": "b4AeXQR3l8CY",
        "outputId": "8896e65c-88c5-4557-c319-8ecbbc48bace"
      },
      "source": [
        "type(x_train)"
      ],
      "execution_count": 28,
      "outputs": [
        {
          "output_type": "execute_result",
          "data": {
            "text/plain": [
              "pandas.core.series.Series"
            ]
          },
          "metadata": {
            "tags": []
          },
          "execution_count": 28
        }
      ]
    },
    {
      "cell_type": "code",
      "metadata": {
        "id": "SrSu0vAol8lW"
      },
      "source": [
        "x_train_list = list(x_train) #typecasting tuple to list\n",
        "y_train_list = list(y_train)"
      ],
      "execution_count": 29,
      "outputs": []
    },
    {
      "cell_type": "code",
      "metadata": {
        "colab": {
          "base_uri": "https://localhost:8080/",
          "height": 295
        },
        "id": "HiohAgESl-E1",
        "outputId": "8370c358-6ffe-482d-e6e2-e3bc4836f497"
      },
      "source": [
        "import matplotlib.pyplot as plt\n",
        "plt.plot(x_train_list,y_train_list,label='y_train',color='green')\n",
        "plt.plot(x_train_list,y_train_pred,label='y_train_pred',color='red')\n",
        "\n",
        "# Add labels and title\n",
        "plt.title(\"VISUALIZING TRAINING ERROR - Predicted data vs trained data\")\n",
        "plt.xlabel(\"x\")\n",
        "plt.ylabel(\"y\")\n",
        " \n",
        "plt.legend()\n",
        "plt.show()"
      ],
      "execution_count": 30,
      "outputs": [
        {
          "output_type": "display_data",
          "data": {
            "image/png": "[encoded data removed]",
            "text/plain": [
              "<Figure size 432x288 with 1 Axes>"
            ]
          },
          "metadata": {
            "tags": [],
            "needs_background": "light"
          }
        }
      ]
    },
    {
      "cell_type": "code",
      "metadata": {
        "colab": {
          "base_uri": "https://localhost:8080/"
        },
        "id": "7SQADAeDmAos",
        "outputId": "761e2cc5-1097-47a7-bc29-4bc4cae3654a"
      },
      "source": [
        "import math\n",
        "from sklearn.metrics import mean_squared_error \n",
        "from sklearn.metrics import mean_absolute_error\n",
        "\n",
        "\n",
        "#Training Accuracies\n",
        "mse = math.sqrt(mean_squared_error(y_train, y_train_pred)) \n",
        "print('Root mean square error', mse) \n",
        "mse = (mean_squared_error(y_train, y_train_pred)) \n",
        "print('Mean square error', mse) \n",
        "mae=mean_absolute_error(y_train, y_train_pred)\n",
        "print('Mean absolute error', mae)"
      ],
      "execution_count": 31,
      "outputs": [
        {
          "output_type": "stream",
          "text": [
            "Root mean square error 0.22922757849721861\n",
            "Mean square error 0.052545282743698525\n",
            "Mean absolute error 0.1660604061949474\n"
          ],
          "name": "stdout"
        }
      ]
    },
    {
      "cell_type": "code",
      "metadata": {
        "colab": {
          "base_uri": "https://localhost:8080/"
        },
        "id": "i2Qz5wacmCkp",
        "outputId": "14784b1a-c217-408d-8bac-0b5cc417941a"
      },
      "source": [
        "y_test_pred = []\n",
        "for i in x_test:\n",
        "  ycalc = mi*i+ci\n",
        "  y_test_pred.append(ycalc)\n",
        "y_test_pred"
      ],
      "execution_count": 32,
      "outputs": [
        {
          "output_type": "execute_result",
          "data": {
            "text/plain": [
              "[0.669858430242263, 0.726945199724807, 0.601495261849588]"
            ]
          },
          "metadata": {
            "tags": []
          },
          "execution_count": 32
        }
      ]
    },
    {
      "cell_type": "code",
      "metadata": {
        "colab": {
          "base_uri": "https://localhost:8080/"
        },
        "id": "l4D-5XBVmE91",
        "outputId": "d8327a23-ead9-4186-bb83-d15b07128787"
      },
      "source": [
        "y_test_list = list(y_test)\n",
        "\n",
        "mse_test_total=0\n",
        "MSError_test = []\n",
        "for i in range(0,len(x_test)):\n",
        "  mse_test = (y_test_list[i]-y_test_pred[i])\n",
        "  mse_test_total+=mse_test\n",
        "  MSError_test.append(mse_test)\n",
        "\n",
        "\n",
        "print('MSE - TESTING ERROR obtained:')\n",
        "print(MSError_test)\n",
        "print('Mean Square Error: ',mse_test_total/len(x_test))"
      ],
      "execution_count": 33,
      "outputs": [
        {
          "output_type": "stream",
          "text": [
            "MSE - TESTING ERROR obtained:\n",
            "[-0.0689276565366207, -0.148120301528181, -0.0994591943684947]\n",
            "Mean Square Error:  -0.105502384144432\n"
          ],
          "name": "stdout"
        }
      ]
    },
    {
      "cell_type": "code",
      "metadata": {
        "colab": {
          "base_uri": "https://localhost:8080/"
        },
        "id": "lVeIOqSHmHis",
        "outputId": "96f4a01e-a537-4f54-d208-42e061272dd8"
      },
      "source": [
        "mse = math.sqrt(mean_squared_error(y_test, y_test_pred)) \n",
        "print('Root mean square error', mse) \n",
        "mse = (mean_squared_error(y_test, y_test_pred)) \n",
        "print('Mean square error', mse) \n",
        "mae=mean_absolute_error(y_test, y_test_pred)\n",
        "print('Mean absolute error', mae)"
      ],
      "execution_count": 34,
      "outputs": [
        {
          "output_type": "stream",
          "text": [
            "Root mean square error 0.11042761868430614\n",
            "Mean square error 0.012194258968286518\n",
            "Mean absolute error 0.10550238414443207\n"
          ],
          "name": "stdout"
        }
      ]
    },
    {
      "cell_type": "code",
      "metadata": {
        "id": "TrnxnJa7mJdK"
      },
      "source": [
        "x_min = df['pressure'].min()\n",
        "x_max = df['pressure'].max()\n",
        "y_min = df['weight'].min()\n",
        "y_max = df['weight'].max()"
      ],
      "execution_count": 35,
      "outputs": []
    },
    {
      "cell_type": "code",
      "metadata": {
        "colab": {
          "base_uri": "https://localhost:8080/"
        },
        "id": "-OKzYMmNmLP3",
        "outputId": "98c9a24e-c21c-4291-a2a4-8d7a6d6ecd1a"
      },
      "source": [
        "x =x1 = float(input(\"Enter pressure of liquid nitrogen value :\"))\n",
        "x = (x - x_min)/(x_max - x_min)\n",
        "y = mi*x + ci\n",
        "y = y*(y_max - y_min) + y_min\n",
        "print(f\"weight of liquid nitrogen for pressure {x1} is : {y}\")\n"
      ],
      "execution_count": 36,
      "outputs": [
        {
          "output_type": "stream",
          "text": [
            "Enter pressure of liquid nitrogen value :150\n",
            "weight of liquid nitrogen for pressure 150.0 is : 480.596813084401\n"
          ],
          "name": "stdout"
        }
      ]
    },
    {
      "cell_type": "code",
      "metadata": {
        "id": "lWt38e72mNVu"
      },
      "source": [
        ""
      ],
      "execution_count": null,
      "outputs": []
    }
  ]
}